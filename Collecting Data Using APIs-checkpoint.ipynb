{
 "cells": [
  {
   "cell_type": "markdown",
   "id": "c07bdf15",
   "metadata": {},
   "source": [
    "# Collecting Data Using APIs"
   ]
  },
  {
   "cell_type": "markdown",
   "id": "42999ff2",
   "metadata": {},
   "source": [
    " In this notebook, we will:"
   ]
  },
  {
   "cell_type": "markdown",
   "id": "fce5c788",
   "metadata": {},
   "source": [
    "1. Collect job data from Jobs API\n",
    "2. Store the collected data into an excel spreadsheet."
   ]
  },
  {
   "cell_type": "markdown",
   "id": "f334977f",
   "metadata": {},
   "source": [
    "We are going to determine the number of jobs currently open for various technologies and for various locations\n",
    "\n",
    "First, we will collect the number of job postings for the following locations using the API:\n",
    "\n",
    "A. Los Angeles\n",
    "\n",
    "B. New York\n",
    "\n",
    "C. San Francisco\n",
    "\n",
    "D. Washington DC\n",
    "\n",
    "E. Seattle\n",
    "\n",
    "F. Austin\n",
    "\n",
    "G. Detroit"
   ]
  },
  {
   "cell_type": "code",
   "execution_count": 2,
   "id": "1f6f09d1",
   "metadata": {},
   "outputs": [],
   "source": [
    "#We import required libraries\n",
    "\n",
    "import pandas as pd\n",
    "import requests"
   ]
  },
  {
   "cell_type": "code",
   "execution_count": 17,
   "id": "78044f9c",
   "metadata": {},
   "outputs": [],
   "source": [
    "# Define API URL\n",
    "api_url = \"https://cf-courses-data.s3.us.cloud-object-storage.appdomain.cloud/IBM-DA0321EN-SkillsNetwork/labs/module%201/Accessing%20Data%20Using%20APIs/jobs.json?utm_medium=Exinfluencer&utm_source=Exinfluencer&utm_content=000026UJ&utm_term=10006555&utm_id=NA-SkillsNetwork-Channel-SkillsNetworkCoursesIBMDA0321ENSkillsNetwork21426264-2022-01-01\"\n",
    "\n",
    "# Define function\n",
    "def get_number_of_jobs_T_L(technology, location):\n",
    "    \n",
    "    response_api = requests.get(api_url)\n",
    "    \n",
    "    number_of_jobs = 0\n",
    "    \n",
    "    if response_api.ok:\n",
    "        jobs = response_api.json()\n",
    "        \n",
    "        for job in jobs:\n",
    "            key = job.get('Key Skills', '')\n",
    "            loc = job.get('Location', '')\n",
    "            \n",
    "            # Checking both technology and location match\n",
    "            if (technology.lower() in key.lower()) and (location.lower() in loc.lower()):\n",
    "                number_of_jobs = number_of_jobs + 1\n",
    "                \n",
    "        \n",
    "    return technology, location, number_of_jobs"
   ]
  },
  {
   "cell_type": "markdown",
   "id": "e8387a2c",
   "metadata": {},
   "source": [
    "Calling the function for Python and checking if it works."
   ]
  },
  {
   "cell_type": "code",
   "execution_count": 18,
   "id": "4c92a0f2",
   "metadata": {},
   "outputs": [
    {
     "data": {
      "text/html": [
       "<div>\n",
       "<style scoped>\n",
       "    .dataframe tbody tr th:only-of-type {\n",
       "        vertical-align: middle;\n",
       "    }\n",
       "\n",
       "    .dataframe tbody tr th {\n",
       "        vertical-align: top;\n",
       "    }\n",
       "\n",
       "    .dataframe thead th {\n",
       "        text-align: right;\n",
       "    }\n",
       "</style>\n",
       "<table border=\"1\" class=\"dataframe\">\n",
       "  <thead>\n",
       "    <tr style=\"text-align: right;\">\n",
       "      <th></th>\n",
       "      <th>Technology</th>\n",
       "      <th>Location</th>\n",
       "      <th>Number of Jobs</th>\n",
       "    </tr>\n",
       "  </thead>\n",
       "  <tbody>\n",
       "    <tr>\n",
       "      <th>0</th>\n",
       "      <td>Python</td>\n",
       "      <td>Los Angeles</td>\n",
       "      <td>24</td>\n",
       "    </tr>\n",
       "    <tr>\n",
       "      <th>1</th>\n",
       "      <td>Python</td>\n",
       "      <td>New York</td>\n",
       "      <td>143</td>\n",
       "    </tr>\n",
       "    <tr>\n",
       "      <th>2</th>\n",
       "      <td>Python</td>\n",
       "      <td>San Francisco</td>\n",
       "      <td>17</td>\n",
       "    </tr>\n",
       "    <tr>\n",
       "      <th>3</th>\n",
       "      <td>Python</td>\n",
       "      <td>Washington DC</td>\n",
       "      <td>258</td>\n",
       "    </tr>\n",
       "    <tr>\n",
       "      <th>4</th>\n",
       "      <td>Python</td>\n",
       "      <td>Seattle</td>\n",
       "      <td>133</td>\n",
       "    </tr>\n",
       "    <tr>\n",
       "      <th>5</th>\n",
       "      <td>Python</td>\n",
       "      <td>Austin</td>\n",
       "      <td>15</td>\n",
       "    </tr>\n",
       "    <tr>\n",
       "      <th>6</th>\n",
       "      <td>Python</td>\n",
       "      <td>Detroit</td>\n",
       "      <td>170</td>\n",
       "    </tr>\n",
       "    <tr>\n",
       "      <th>7</th>\n",
       "      <td>Java</td>\n",
       "      <td>Los Angeles</td>\n",
       "      <td>64</td>\n",
       "    </tr>\n",
       "    <tr>\n",
       "      <th>8</th>\n",
       "      <td>Java</td>\n",
       "      <td>New York</td>\n",
       "      <td>417</td>\n",
       "    </tr>\n",
       "    <tr>\n",
       "      <th>9</th>\n",
       "      <td>Java</td>\n",
       "      <td>San Francisco</td>\n",
       "      <td>49</td>\n",
       "    </tr>\n",
       "    <tr>\n",
       "      <th>10</th>\n",
       "      <td>Java</td>\n",
       "      <td>Washington DC</td>\n",
       "      <td>663</td>\n",
       "    </tr>\n",
       "    <tr>\n",
       "      <th>11</th>\n",
       "      <td>Java</td>\n",
       "      <td>Seattle</td>\n",
       "      <td>462</td>\n",
       "    </tr>\n",
       "    <tr>\n",
       "      <th>12</th>\n",
       "      <td>Java</td>\n",
       "      <td>Austin</td>\n",
       "      <td>41</td>\n",
       "    </tr>\n",
       "    <tr>\n",
       "      <th>13</th>\n",
       "      <td>Java</td>\n",
       "      <td>Detroit</td>\n",
       "      <td>471</td>\n",
       "    </tr>\n",
       "    <tr>\n",
       "      <th>14</th>\n",
       "      <td>SQL</td>\n",
       "      <td>Los Angeles</td>\n",
       "      <td>65</td>\n",
       "    </tr>\n",
       "    <tr>\n",
       "      <th>15</th>\n",
       "      <td>SQL</td>\n",
       "      <td>New York</td>\n",
       "      <td>417</td>\n",
       "    </tr>\n",
       "    <tr>\n",
       "      <th>16</th>\n",
       "      <td>SQL</td>\n",
       "      <td>San Francisco</td>\n",
       "      <td>54</td>\n",
       "    </tr>\n",
       "    <tr>\n",
       "      <th>17</th>\n",
       "      <td>SQL</td>\n",
       "      <td>Washington DC</td>\n",
       "      <td>628</td>\n",
       "    </tr>\n",
       "    <tr>\n",
       "      <th>18</th>\n",
       "      <td>SQL</td>\n",
       "      <td>Seattle</td>\n",
       "      <td>397</td>\n",
       "    </tr>\n",
       "    <tr>\n",
       "      <th>19</th>\n",
       "      <td>SQL</td>\n",
       "      <td>Austin</td>\n",
       "      <td>53</td>\n",
       "    </tr>\n",
       "    <tr>\n",
       "      <th>20</th>\n",
       "      <td>SQL</td>\n",
       "      <td>Detroit</td>\n",
       "      <td>446</td>\n",
       "    </tr>\n",
       "    <tr>\n",
       "      <th>21</th>\n",
       "      <td>AWS</td>\n",
       "      <td>Los Angeles</td>\n",
       "      <td>6</td>\n",
       "    </tr>\n",
       "    <tr>\n",
       "      <th>22</th>\n",
       "      <td>AWS</td>\n",
       "      <td>New York</td>\n",
       "      <td>34</td>\n",
       "    </tr>\n",
       "    <tr>\n",
       "      <th>23</th>\n",
       "      <td>AWS</td>\n",
       "      <td>San Francisco</td>\n",
       "      <td>6</td>\n",
       "    </tr>\n",
       "    <tr>\n",
       "      <th>24</th>\n",
       "      <td>AWS</td>\n",
       "      <td>Washington DC</td>\n",
       "      <td>60</td>\n",
       "    </tr>\n",
       "    <tr>\n",
       "      <th>25</th>\n",
       "      <td>AWS</td>\n",
       "      <td>Seattle</td>\n",
       "      <td>32</td>\n",
       "    </tr>\n",
       "    <tr>\n",
       "      <th>26</th>\n",
       "      <td>AWS</td>\n",
       "      <td>Austin</td>\n",
       "      <td>9</td>\n",
       "    </tr>\n",
       "    <tr>\n",
       "      <th>27</th>\n",
       "      <td>AWS</td>\n",
       "      <td>Detroit</td>\n",
       "      <td>59</td>\n",
       "    </tr>\n",
       "  </tbody>\n",
       "</table>\n",
       "</div>"
      ],
      "text/plain": [
       "   Technology       Location  Number of Jobs\n",
       "0      Python    Los Angeles              24\n",
       "1      Python       New York             143\n",
       "2      Python  San Francisco              17\n",
       "3      Python  Washington DC             258\n",
       "4      Python        Seattle             133\n",
       "5      Python         Austin              15\n",
       "6      Python        Detroit             170\n",
       "7        Java    Los Angeles              64\n",
       "8        Java       New York             417\n",
       "9        Java  San Francisco              49\n",
       "10       Java  Washington DC             663\n",
       "11       Java        Seattle             462\n",
       "12       Java         Austin              41\n",
       "13       Java        Detroit             471\n",
       "14        SQL    Los Angeles              65\n",
       "15        SQL       New York             417\n",
       "16        SQL  San Francisco              54\n",
       "17        SQL  Washington DC             628\n",
       "18        SQL        Seattle             397\n",
       "19        SQL         Austin              53\n",
       "20        SQL        Detroit             446\n",
       "21        AWS    Los Angeles               6\n",
       "22        AWS       New York              34\n",
       "23        AWS  San Francisco               6\n",
       "24        AWS  Washington DC              60\n",
       "25        AWS        Seattle              32\n",
       "26        AWS         Austin               9\n",
       "27        AWS        Detroit              59"
      ]
     },
     "execution_count": 18,
     "metadata": {},
     "output_type": "execute_result"
    }
   ],
   "source": [
    "# Define list of locations\n",
    "locations = ['Los Angeles', 'New York', 'San Francisco', 'Washington DC', 'Seattle', 'Austin', 'Detroit']\n",
    "\n",
    "# Define list of technologies\n",
    "technologies = ['Python', 'Java', 'SQL', 'AWS']\n",
    "\n",
    "# Prepare empty list to collect results\n",
    "results = []\n",
    "\n",
    "# Loop through all combinations\n",
    "for tech in technologies:\n",
    "    for loc in locations:\n",
    "        tech_loc_jobs = get_number_of_jobs_T_L(tech, loc)\n",
    "        results.append(tech_loc_jobs)\n",
    "\n",
    "# Convert to dataframe\n",
    "df_jobs = pd.DataFrame(results, columns=['Technology', 'Location', 'Number of Jobs'])\n",
    "\n",
    "# Save to Excel\n",
    "df_jobs.to_excel('Job_Postings.xlsx', index=False)\n",
    "\n",
    "# Display DataFrame\n",
    "df_jobs\n"
   ]
  },
  {
   "cell_type": "code",
   "execution_count": 19,
   "id": "238885b2",
   "metadata": {},
   "outputs": [
    {
     "data": {
      "text/plain": [
       "('Python', 'New York', 143)"
      ]
     },
     "execution_count": 19,
     "metadata": {},
     "output_type": "execute_result"
    }
   ],
   "source": [
    "get_number_of_jobs_T_L(\"Python\", \"New York\")"
   ]
  },
  {
   "cell_type": "markdown",
   "id": "f7d427da",
   "metadata": {},
   "source": [
    "Let's call the function for Los Angeles and check if it is working."
   ]
  },
  {
   "cell_type": "code",
   "execution_count": 20,
   "id": "305fe458",
   "metadata": {},
   "outputs": [
    {
     "data": {
      "text/plain": [
       "('Java', 'Los Angeles', 64)"
      ]
     },
     "execution_count": 20,
     "metadata": {},
     "output_type": "execute_result"
    }
   ],
   "source": [
    "get_number_of_jobs_T_L(\"Java\", \"Los Angeles\")"
   ]
  },
  {
   "cell_type": "markdown",
   "id": "fbfdf74b",
   "metadata": {},
   "source": [
    "## Storing the results in an excel file"
   ]
  },
  {
   "cell_type": "markdown",
   "id": "c7bf5b93",
   "metadata": {},
   "source": [
    "We call the API for all the given technologies above and write the results in an excel spreadsheet."
   ]
  },
  {
   "cell_type": "markdown",
   "id": "a24658f6",
   "metadata": {},
   "source": [
    "We create a python list of all locations for which you need to find the number of jobs postings."
   ]
  },
  {
   "cell_type": "code",
   "execution_count": 8,
   "id": "d4b0ade2",
   "metadata": {},
   "outputs": [],
   "source": [
    "locations = ['Los Angeles','New York','San Francisco','Washington DC','Seattle','Austin','Detroit']"
   ]
  },
  {
   "cell_type": "markdown",
   "id": "78dd872a",
   "metadata": {},
   "source": [
    "We create a python list of all technologies for which you need to find the number of jobs postings."
   ]
  },
  {
   "cell_type": "code",
   "execution_count": 21,
   "id": "a4e899eb",
   "metadata": {},
   "outputs": [],
   "source": [
    "technologies = ['Python', 'Java', 'SQL', 'AWS']"
   ]
  },
  {
   "cell_type": "markdown",
   "id": "286badc6",
   "metadata": {},
   "source": [
    "We import libraries required to create excel spreadsheet"
   ]
  },
  {
   "cell_type": "code",
   "execution_count": 22,
   "id": "91c6d46b",
   "metadata": {},
   "outputs": [],
   "source": [
    "from openpyxl import Workbook"
   ]
  },
  {
   "cell_type": "markdown",
   "id": "cd9e9843",
   "metadata": {},
   "source": [
    "We create a workbook and select the active worksheet"
   ]
  },
  {
   "cell_type": "code",
   "execution_count": 23,
   "id": "4f1945af",
   "metadata": {},
   "outputs": [],
   "source": [
    "wb1 = Workbook()\n",
    "ws1 = wb1.active"
   ]
  },
  {
   "cell_type": "markdown",
   "id": "d09918ad",
   "metadata": {},
   "source": [
    "We find the number of jobs postings for each of the location in the above list and write the Location name and the number of jobs postings into the excel spreadsheet."
   ]
  },
  {
   "cell_type": "code",
   "execution_count": 26,
   "id": "121960df",
   "metadata": {},
   "outputs": [],
   "source": [
    "ws1.append(['Technology', 'Location', 'Number of Jobs'])\n",
    "\n",
    "# Loop through all combinations\n",
    "for tech in technologies:\n",
    "    for loc in locations:\n",
    "        result = get_number_of_jobs_T_L(tech, loc)\n",
    "        ws1.append(result)\n"
   ]
  },
  {
   "cell_type": "markdown",
   "id": "2e257905",
   "metadata": {},
   "source": [
    "We save into an excel spreadsheet named 'job-by-technoogy-and-postings.xlsx'."
   ]
  },
  {
   "cell_type": "code",
   "execution_count": 34,
   "id": "95eb5dff",
   "metadata": {},
   "outputs": [],
   "source": [
    "wb1.save(\"1.Jobs_By_Technology_And_Location.xlsx\")"
   ]
  },
  {
   "cell_type": "markdown",
   "id": "310a70b0",
   "metadata": {},
   "source": [
    "In the similar way, we can try for below given technologies and results can be stored in an excel sheet."
   ]
  },
  {
   "cell_type": "markdown",
   "id": "b6840379",
   "metadata": {},
   "source": [
    "We collect the number of job postings for the following languages using the API:\n",
    "\n",
    "C\n",
    "\n",
    "C#\n",
    "\n",
    "C++\n",
    "\n",
    "Java\n",
    "\n",
    "JavaScript\n",
    "\n",
    "Python\n",
    "\n",
    "Scala\n",
    "\n",
    "Oracle\n",
    "\n",
    "SQL Server\n",
    "\n",
    "MySQL Server\n",
    "\n",
    "PostgreSQL\n",
    "\n",
    "MongoDB"
   ]
  },
  {
   "cell_type": "code",
   "execution_count": 35,
   "id": "d9280f0c",
   "metadata": {},
   "outputs": [],
   "source": [
    "def get_number_of_jobs_T(technology):\n",
    "    response_api = requests.get(api_url)\n",
    "\n",
    "    number_of_jobs = 0\n",
    "\n",
    "    if response_api.ok:\n",
    "        jobs = response_api.json()\n",
    "\n",
    "        for job in jobs:\n",
    "            key = job.get('Key Skills', '')\n",
    "\n",
    "            if technology.lower() in key.lower():\n",
    "                number_of_jobs += 1\n",
    "\n",
    "    return technology, number_of_jobs"
   ]
  },
  {
   "cell_type": "code",
   "execution_count": 36,
   "id": "a88dbf3f",
   "metadata": {},
   "outputs": [],
   "source": [
    "from openpyxl import Workbook\n",
    "\n",
    "wb2 = Workbook()\n",
    "ws2 = wb2.active\n",
    "\n",
    "languages = ['C','C#','C++','Java','JavaScript','Python','Scala','Oracle','SQL Server','MySQL Server','PostgreSQL','MongoDB']\n",
    "\n",
    "ws2.append(['Languages','Number of Jobs'])\n",
    "\n",
    "for lang in languages:\n",
    "    result = get_number_of_jobs_T(lang)\n",
    "    ws2.append(result)\n",
    "\n",
    "wb2.save('2.Job-Postings-Languages(Collected from API).xlsx')"
   ]
  }
 ],
 "metadata": {
  "kernelspec": {
   "display_name": "Python 3 (ipykernel)",
   "language": "python",
   "name": "python3"
  },
  "language_info": {
   "codemirror_mode": {
    "name": "ipython",
    "version": 3
   },
   "file_extension": ".py",
   "mimetype": "text/x-python",
   "name": "python",
   "nbconvert_exporter": "python",
   "pygments_lexer": "ipython3",
   "version": "3.11.5"
  }
 },
 "nbformat": 4,
 "nbformat_minor": 5
}
